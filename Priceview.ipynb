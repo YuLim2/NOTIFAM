{
  "nbformat": 4,
  "nbformat_minor": 0,
  "metadata": {
    "kernelspec": {
      "display_name": "Python 3",
      "language": "python",
      "name": "python3"
    },
    "language_info": {
      "codemirror_mode": {
        "name": "ipython",
        "version": 3
      },
      "file_extension": ".py",
      "mimetype": "text/x-python",
      "name": "python",
      "nbconvert_exporter": "python",
      "pygments_lexer": "ipython3",
      "version": "3.8.3"
    },
    "colab": {
      "name": "Priceview.ipynb",
      "provenance": [],
      "collapsed_sections": [],
      "include_colab_link": true
    }
  },
  "cells": [
    {
      "cell_type": "markdown",
      "metadata": {
        "id": "view-in-github",
        "colab_type": "text"
      },
      "source": [
        "<a href=\"https://colab.research.google.com/github/YuLim2/NOTIFAM/blob/master/Priceview.ipynb\" target=\"_parent\"><img src=\"https://colab.research.google.com/assets/colab-badge.svg\" alt=\"Open In Colab\"/></a>"
      ]
    },
    {
      "cell_type": "markdown",
      "metadata": {
        "id": "ETGxtH1v9Hhr"
      },
      "source": [
        "# 월별 농축수산물 도매가격 정보\n",
        "  - 1996년 ~ 2021년 8월"
      ]
    },
    {
      "cell_type": "code",
      "metadata": {
        "id": "X1Tgb3kL9bph"
      },
      "source": [
        "from google.colab import drive\n",
        "drive.mount('/content/drive')"
      ],
      "execution_count": null,
      "outputs": []
    },
    {
      "cell_type": "code",
      "metadata": {
        "id": "YbVgHsmY9Hhy"
      },
      "source": [
        "# 향후 버전 업에 대한 경고 메시지 출력 안하기 \n",
        "import warnings\n",
        "\n",
        "warnings.filterwarnings(action='ignore') "
      ],
      "execution_count": null,
      "outputs": []
    },
    {
      "cell_type": "markdown",
      "metadata": {
        "id": "kijsMpLb9Hh0"
      },
      "source": [
        "## 1) 데이터 수집"
      ]
    },
    {
      "cell_type": "code",
      "metadata": {
        "id": "T9J4L7qb9Hh0"
      },
      "source": [
        "import numpy as np\n",
        "import pandas as pd \n",
        "from google.colab import drive\n",
        "import matplotlib.pyplot as plt\n",
        "\n",
        "#drive.mount('/content/drive')\n",
        "\n",
        "data_df = pd.read_csv('WholesalePrice_20210831.csv', header=0, encoding='cp949')"
      ],
      "execution_count": null,
      "outputs": []
    },
    {
      "cell_type": "markdown",
      "metadata": {
        "id": "ZSwPmday9Hh1"
      },
      "source": [
        "## 2) 데이터 준비 및 탐색"
      ]
    },
    {
      "cell_type": "code",
      "metadata": {
        "colab": {
          "base_uri": "https://localhost:8080/",
          "height": 224
        },
        "id": "krRwgzfI9Hh1",
        "outputId": "b458b7b7-02e3-41db-e2cc-12ce6c5f5f55"
      },
      "source": [
        "print(' 데이터셋 크기 : ', data_df.shape)\n",
        "\n",
        "data_df.tail()"
      ],
      "execution_count": null,
      "outputs": [
        {
          "output_type": "stream",
          "name": "stdout",
          "text": [
            " 데이터셋 크기 :  (42339, 8)\n"
          ]
        },
        {
          "output_type": "execute_result",
          "data": {
            "text/html": [
              "<div>\n",
              "<style scoped>\n",
              "    .dataframe tbody tr th:only-of-type {\n",
              "        vertical-align: middle;\n",
              "    }\n",
              "\n",
              "    .dataframe tbody tr th {\n",
              "        vertical-align: top;\n",
              "    }\n",
              "\n",
              "    .dataframe thead th {\n",
              "        text-align: right;\n",
              "    }\n",
              "</style>\n",
              "<table border=\"1\" class=\"dataframe\">\n",
              "  <thead>\n",
              "    <tr style=\"text-align: right;\">\n",
              "      <th></th>\n",
              "      <th>연도</th>\n",
              "      <th>월</th>\n",
              "      <th>품목명</th>\n",
              "      <th>품종명</th>\n",
              "      <th>평균가격</th>\n",
              "      <th>등급명</th>\n",
              "      <th>유통단계별무게</th>\n",
              "      <th>유통단계별단위명</th>\n",
              "    </tr>\n",
              "  </thead>\n",
              "  <tbody>\n",
              "    <tr>\n",
              "      <th>42334</th>\n",
              "      <td>2021</td>\n",
              "      <td>8</td>\n",
              "      <td>건오징어</td>\n",
              "      <td>건오징어</td>\n",
              "      <td>82600.0</td>\n",
              "      <td>중품</td>\n",
              "      <td>20.0</td>\n",
              "      <td>마리</td>\n",
              "    </tr>\n",
              "    <tr>\n",
              "      <th>42335</th>\n",
              "      <td>2021</td>\n",
              "      <td>8</td>\n",
              "      <td>김</td>\n",
              "      <td>마른김</td>\n",
              "      <td>6140.0</td>\n",
              "      <td>중품</td>\n",
              "      <td>1.0</td>\n",
              "      <td>속</td>\n",
              "    </tr>\n",
              "    <tr>\n",
              "      <th>42336</th>\n",
              "      <td>2021</td>\n",
              "      <td>8</td>\n",
              "      <td>건미역</td>\n",
              "      <td>건미역</td>\n",
              "      <td>11920.0</td>\n",
              "      <td>상품</td>\n",
              "      <td>1.0</td>\n",
              "      <td>kg</td>\n",
              "    </tr>\n",
              "    <tr>\n",
              "      <th>42337</th>\n",
              "      <td>2021</td>\n",
              "      <td>8</td>\n",
              "      <td>전복</td>\n",
              "      <td>전복</td>\n",
              "      <td>34660.0</td>\n",
              "      <td>중품</td>\n",
              "      <td>1.0</td>\n",
              "      <td>kg</td>\n",
              "    </tr>\n",
              "    <tr>\n",
              "      <th>42338</th>\n",
              "      <td>2021</td>\n",
              "      <td>8</td>\n",
              "      <td>새우</td>\n",
              "      <td>흰다리(수입)</td>\n",
              "      <td>25260.0</td>\n",
              "      <td>중품</td>\n",
              "      <td>2.0</td>\n",
              "      <td>kg</td>\n",
              "    </tr>\n",
              "  </tbody>\n",
              "</table>\n",
              "</div>"
            ],
            "text/plain": [
              "         연도  월   품목명      품종명     평균가격 등급명  유통단계별무게 유통단계별단위명\n",
              "42334  2021  8  건오징어     건오징어  82600.0  중품     20.0       마리\n",
              "42335  2021  8     김      마른김   6140.0  중품      1.0        속\n",
              "42336  2021  8   건미역      건미역  11920.0  상품      1.0       kg\n",
              "42337  2021  8    전복       전복  34660.0  중품      1.0       kg\n",
              "42338  2021  8    새우  흰다리(수입)  25260.0  중품      2.0       kg"
            ]
          },
          "metadata": {},
          "execution_count": 6
        }
      ]
    },
    {
      "cell_type": "markdown",
      "metadata": {
        "id": "yxbZ8_iR9Hh3"
      },
      "source": [
        "#### - 분석하지 않을 변수 제외하기"
      ]
    },
    {
      "cell_type": "code",
      "metadata": {
        "id": "PlCfcxC59Hh3"
      },
      "source": [
        "data_df_list = data_df['품목명']"
      ],
      "execution_count": null,
      "outputs": []
    },
    {
      "cell_type": "code",
      "metadata": {
        "colab": {
          "base_uri": "https://localhost:8080/"
        },
        "id": "lMbXBARB9Hh4",
        "outputId": "b7c98dff-0409-491c-cf28-450e1e5e3b33"
      },
      "source": [
        "print(' 데이터세트 크기 : ', data_df.shape)\n",
        "\n",
        "data_df_list.unique()"
      ],
      "execution_count": null,
      "outputs": [
        {
          "output_type": "stream",
          "name": "stdout",
          "text": [
            " 데이터세트 크기 :  (42339, 8)\n"
          ]
        },
        {
          "output_type": "execute_result",
          "data": {
            "text/plain": [
              "array(['쌀', '찹쌀', '콩', '팥', '녹두', '고구마', '감자', '배추', '양배추', '시금치', '상추',\n",
              "       '오이', '호박', '무', '당근', '건고추', '풋고추', '붉은고추', '피마늘', '양파', '파',\n",
              "       '생강', '미나리', '참깨', '들깨', '땅콩', '사과', '배', '감귤', '단감', '바나나', '참다래',\n",
              "       '파인애플', '고등어', '갈치', '명태', '물오징어', '건멸치', '북어', '건오징어', '김', '건미역',\n",
              "       '굴', '딸기', '참외', '토마토', '수박', '복숭아', '포도', '깻잎', '오렌지', '방울토마토',\n",
              "       '피망', '느타리버섯', '메밀', '깐마늘(국산)', '깐마늘(수입)', '팽이버섯', '수입조기', '파프리카',\n",
              "       '멜론', '새송이버섯', '얼갈이배추', '열무', '레몬', '체리', '망고', '전복', '새우'],\n",
              "      dtype=object)"
            ]
          },
          "metadata": {},
          "execution_count": 8
        }
      ]
    },
    {
      "cell_type": "code",
      "metadata": {
        "colab": {
          "base_uri": "https://localhost:8080/"
        },
        "id": "L9FTTh0N9Hh5",
        "outputId": "78a540da-320d-4f2f-89f7-f78ff6fa9ea7"
      },
      "source": [
        "data_df.info()"
      ],
      "execution_count": null,
      "outputs": [
        {
          "output_type": "stream",
          "name": "stdout",
          "text": [
            "<class 'pandas.core.frame.DataFrame'>\n",
            "RangeIndex: 42339 entries, 0 to 42338\n",
            "Data columns (total 8 columns):\n",
            " #   Column    Non-Null Count  Dtype  \n",
            "---  ------    --------------  -----  \n",
            " 0   연도        42339 non-null  int64  \n",
            " 1   월         42339 non-null  int64  \n",
            " 2   품목명       42339 non-null  object \n",
            " 3   품종명       42339 non-null  object \n",
            " 4   평균가격      42339 non-null  float64\n",
            " 5   등급명       42339 non-null  object \n",
            " 6   유통단계별무게   42339 non-null  float64\n",
            " 7   유통단계별단위명  42339 non-null  object \n",
            "dtypes: float64(2), int64(2), object(4)\n",
            "memory usage: 2.6+ MB\n"
          ]
        }
      ]
    },
    {
      "cell_type": "code",
      "metadata": {
        "colab": {
          "base_uri": "https://localhost:8080/",
          "height": 206
        },
        "id": "hAUXBxjWnyZP",
        "outputId": "0a9accc9-07c4-490a-b654-e51e9617865a"
      },
      "source": [
        "tomato = data_df.loc[data_df['품목명'] == '토마토']\n",
        "tomato = tomato.loc[tomato['등급명'] == '상품']\n",
        "tomato.tail()"
      ],
      "execution_count": null,
      "outputs": [
        {
          "output_type": "execute_result",
          "data": {
            "text/html": [
              "<div>\n",
              "<style scoped>\n",
              "    .dataframe tbody tr th:only-of-type {\n",
              "        vertical-align: middle;\n",
              "    }\n",
              "\n",
              "    .dataframe tbody tr th {\n",
              "        vertical-align: top;\n",
              "    }\n",
              "\n",
              "    .dataframe thead th {\n",
              "        text-align: right;\n",
              "    }\n",
              "</style>\n",
              "<table border=\"1\" class=\"dataframe\">\n",
              "  <thead>\n",
              "    <tr style=\"text-align: right;\">\n",
              "      <th></th>\n",
              "      <th>연도</th>\n",
              "      <th>월</th>\n",
              "      <th>품목명</th>\n",
              "      <th>품종명</th>\n",
              "      <th>평균가격</th>\n",
              "      <th>등급명</th>\n",
              "      <th>유통단계별무게</th>\n",
              "      <th>유통단계별단위명</th>\n",
              "    </tr>\n",
              "  </thead>\n",
              "  <tbody>\n",
              "    <tr>\n",
              "      <th>41579</th>\n",
              "      <td>2021</td>\n",
              "      <td>4</td>\n",
              "      <td>토마토</td>\n",
              "      <td>토마토</td>\n",
              "      <td>34080.909</td>\n",
              "      <td>상품</td>\n",
              "      <td>10.0</td>\n",
              "      <td>kg</td>\n",
              "    </tr>\n",
              "    <tr>\n",
              "      <th>41734</th>\n",
              "      <td>2021</td>\n",
              "      <td>5</td>\n",
              "      <td>토마토</td>\n",
              "      <td>토마토</td>\n",
              "      <td>22544.444</td>\n",
              "      <td>상품</td>\n",
              "      <td>10.0</td>\n",
              "      <td>kg</td>\n",
              "    </tr>\n",
              "    <tr>\n",
              "      <th>41886</th>\n",
              "      <td>2021</td>\n",
              "      <td>6</td>\n",
              "      <td>토마토</td>\n",
              "      <td>토마토</td>\n",
              "      <td>19586.364</td>\n",
              "      <td>상품</td>\n",
              "      <td>10.0</td>\n",
              "      <td>kg</td>\n",
              "    </tr>\n",
              "    <tr>\n",
              "      <th>42044</th>\n",
              "      <td>2021</td>\n",
              "      <td>7</td>\n",
              "      <td>토마토</td>\n",
              "      <td>토마토</td>\n",
              "      <td>23439.091</td>\n",
              "      <td>상품</td>\n",
              "      <td>10.0</td>\n",
              "      <td>kg</td>\n",
              "    </tr>\n",
              "    <tr>\n",
              "      <th>42219</th>\n",
              "      <td>2021</td>\n",
              "      <td>8</td>\n",
              "      <td>토마토</td>\n",
              "      <td>토마토</td>\n",
              "      <td>18250.000</td>\n",
              "      <td>상품</td>\n",
              "      <td>10.0</td>\n",
              "      <td>kg</td>\n",
              "    </tr>\n",
              "  </tbody>\n",
              "</table>\n",
              "</div>"
            ],
            "text/plain": [
              "         연도  월  품목명  품종명       평균가격 등급명  유통단계별무게 유통단계별단위명\n",
              "41579  2021  4  토마토  토마토  34080.909  상품     10.0       kg\n",
              "41734  2021  5  토마토  토마토  22544.444  상품     10.0       kg\n",
              "41886  2021  6  토마토  토마토  19586.364  상품     10.0       kg\n",
              "42044  2021  7  토마토  토마토  23439.091  상품     10.0       kg\n",
              "42219  2021  8  토마토  토마토  18250.000  상품     10.0       kg"
            ]
          },
          "metadata": {},
          "execution_count": 10
        }
      ]
    },
    {
      "cell_type": "code",
      "metadata": {
        "colab": {
          "base_uri": "https://localhost:8080/",
          "height": 265
        },
        "id": "pToIIJJ7qYu0",
        "outputId": "3e42e588-6748-4a33-fc17-ad28058a8d8b"
      },
      "source": [
        "# tomato['월'] = pd.to_datetime(tomato['월'])\n",
        "# tomato.index = tomato['월']\n",
        "# tomato.set_index('월', inplace=True)\n",
        "Y = tomato['평균가격']\n",
        "X = tomato.drop(['품목명', '품종명', '평균가격', '등급명', '유통단계별무게', '유통단계별단위명'], axis=1, inplace=False)\n",
        "plt.plot(Y)\n",
        "plt.show()"
      ],
      "execution_count": null,
      "outputs": [
        {
          "output_type": "display_data",
          "data": {
            "image/png": "[encoded data removed]",
            "text/plain": [
              "<Figure size 432x288 with 1 Axes>"
            ]
          },
          "metadata": {
            "needs_background": "light"
          }
        }
      ]
    },
    {
      "cell_type": "code",
      "metadata": {
        "colab": {
          "base_uri": "https://localhost:8080/"
        },
        "id": "FFxkmoOyuUBx",
        "outputId": "46bfe33c-c9c8-4826-aa75-b3fe76d63f03"
      },
      "source": [
        "print(X)"
      ],
      "execution_count": null,
      "outputs": [
        {
          "output_type": "stream",
          "name": "stdout",
          "text": [
            "         연도  월\n",
            "236    1996  3\n",
            "346    1996  4\n",
            "461    1996  5\n",
            "574    1996  6\n",
            "691    1996  7\n",
            "...     ... ..\n",
            "41579  2021  4\n",
            "41734  2021  5\n",
            "41886  2021  6\n",
            "42044  2021  7\n",
            "42219  2021  8\n",
            "\n",
            "[281 rows x 2 columns]\n"
          ]
        }
      ]
    },
    {
      "cell_type": "markdown",
      "metadata": {
        "id": "5rCCSFDT9Hh5"
      },
      "source": [
        "## 3) 분석 모델 구축"
      ]
    },
    {
      "cell_type": "code",
      "metadata": {
        "id": "3I8X-ZRI9Hh6"
      },
      "source": [
        "from sklearn.linear_model import LinearRegression\n",
        "from sklearn.model_selection import train_test_split\n",
        "from sklearn.metrics import mean_squared_error, r2_score"
      ],
      "execution_count": null,
      "outputs": []
    },
    {
      "cell_type": "code",
      "metadata": {
        "id": "xUrmyNLa9Hh6"
      },
      "source": [
        "# X, Y 분할하기\n",
        "\n",
        "# Y = tomato['평균가격']\n",
        "# X = tomato.drop(['평균가격', '품목명', '품종명', '등급명', '유통단계별무게', '유통단계별단위명'], axis=1, inplace=False)"
      ],
      "execution_count": null,
      "outputs": []
    },
    {
      "cell_type": "code",
      "metadata": {
        "id": "xzUBjALL9Hh7"
      },
      "source": [
        "# 훈련용 데이터와 평가용 데이터 분할하기\n",
        "X_train, X_test, Y_train, Y_test = train_test_split(X, Y, test_size=0.3, random_state=0)"
      ],
      "execution_count": null,
      "outputs": []
    },
    {
      "cell_type": "code",
      "metadata": {
        "id": "T6xwRB1K9Hh7"
      },
      "source": [
        "# 선형회귀분석 : 모델 생성\n",
        "lr = LinearRegression()"
      ],
      "execution_count": null,
      "outputs": []
    },
    {
      "cell_type": "code",
      "metadata": {
        "colab": {
          "base_uri": "https://localhost:8080/"
        },
        "id": "ghtvv6Ij9Hh8",
        "outputId": "144c9829-8375-4915-b935-06c81efd768d"
      },
      "source": [
        "# 선형회귀분석 : 모델 훈련\n",
        "lr.fit(X_train, Y_train)"
      ],
      "execution_count": null,
      "outputs": [
        {
          "output_type": "execute_result",
          "data": {
            "text/plain": [
              "LinearRegression()"
            ]
          },
          "metadata": {},
          "execution_count": 16
        }
      ]
    },
    {
      "cell_type": "code",
      "metadata": {
        "id": "0-V_Er419Hh8"
      },
      "source": [
        "# 선형회귀분석 : 평가 데이터에 대한 예측 수행 -> 예측 결과 Y_predict 구하기\n",
        "Y_predict = lr.predict(X_test)"
      ],
      "execution_count": null,
      "outputs": []
    },
    {
      "cell_type": "markdown",
      "metadata": {
        "id": "JuDPLeRu9Hh9"
      },
      "source": [
        "## 4) 결과 분석 및 시각화"
      ]
    },
    {
      "cell_type": "code",
      "metadata": {
        "colab": {
          "base_uri": "https://localhost:8080/"
        },
        "id": "oMQD0Y_Z9Hh9",
        "outputId": "91ff7f47-6f8c-4da9-db32-72f5833d417a"
      },
      "source": [
        "mse = mean_squared_error(Y_test, Y_predict)\n",
        "rmse = np.sqrt(mse)\n",
        "\n",
        "print('MSE : {0:.3f}, RMSE : {1:.3f}'.format(mse, rmse))\n",
        "print('R^2(Variance score) : {0:.3f}'.format(r2_score(Y_test, Y_predict)))"
      ],
      "execution_count": null,
      "outputs": [
        {
          "output_type": "stream",
          "name": "stdout",
          "text": [
            "MSE : 50832782.587, RMSE : 7129.711\n",
            "R^2(Variance score) : 0.254\n"
          ]
        }
      ]
    }
  ]
}